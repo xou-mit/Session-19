{
 "cells": [
  {
   "cell_type": "code",
   "execution_count": 1,
   "metadata": {},
   "outputs": [],
   "source": [
    "# Import standard libraries\n",
    "import numpy as np\n",
    "import matplotlib.pyplot as plt\n",
    "import pandas as pd"
   ]
  },
  {
   "cell_type": "code",
   "execution_count": 24,
   "metadata": {},
   "outputs": [],
   "source": [
    "# Explore the regret of UCB in reinforcement learning\n",
    "# Define a function to simulate the reward of each arm\n",
    "def reward(arm):\n",
    "    if arm == 1:\n",
    "        return np.random.binomial(1, 0.95)\n",
    "    elif arm == 2:\n",
    "        return np.random.binomial(1, 0.9)\n",
    "    elif arm == 3:\n",
    "        return np.random.binomial(1, 0.1)\n",
    "    \n",
    "def UCB(arm, t, N, R):\n",
    "    if N[arm-1] == 0:\n",
    "        return 1\n",
    "    else:\n",
    "        return R[arm-1]/N[arm-1] + np.sqrt(2*np.log(t)/N[arm-1])\n",
    "    \n",
    "def greedy(arm, t, N, R):\n",
    "    if N[arm-1] == 0:\n",
    "        return 1\n",
    "    else:\n",
    "        return R[arm-1]/N[arm-1]\n",
    "    \n",
    "def epsilon_greedy(arm, t, N, R, epsilon):\n",
    "    if np.random.uniform() < epsilon:\n",
    "        return np.random.uniform()\n",
    "    else:\n",
    "        return greedy(arm, t, N, R)\n",
    "    \n",
    "def optimal_arm(N, R):\n",
    "    return np.argmax(R/N)\n",
    "\n",
    "def optima_value(N, R):\n",
    "    return np.max(R/N)\n",
    "\n",
    "def regret(arm, t, N, R):\n",
    "    # return 1 if the res is nan\n",
    "    res = optima_value(N, R) - greedy(arm, t, N, R)\n",
    "    if np.isnan(res):\n",
    "        return 1\n",
    "    else:\n",
    "        return res"
   ]
  },
  {
   "cell_type": "code",
   "execution_count": 25,
   "metadata": {},
   "outputs": [
    {
     "name": "stdout",
     "output_type": "stream",
     "text": [
      "[3. 3. 4.]\n"
     ]
    },
    {
     "name": "stderr",
     "output_type": "stream",
     "text": [
      "/var/folders/gf/j4j20wvx1d77qj5hx1gjrwf40000gn/T/ipykernel_49404/1153636375.py:33: RuntimeWarning: invalid value encountered in divide\n",
      "  return np.max(R/N)\n"
     ]
    }
   ],
   "source": [
    "# Initialize the first N pulls\n",
    "# Randomly pull the three arms N_ini times\n",
    "N_ini = 10\n",
    "t_tot = 100\n",
    "\n",
    "\n",
    "t = np.arange(1, t_tot+1)\n",
    "picked_arm = np.zeros(t_tot)\n",
    "N = np.zeros(3)\n",
    "R = np.zeros(3)\n",
    "picked_R = np.zeros(t_tot)\n",
    "total_regret = np.zeros(t_tot)\n",
    "\n",
    "for i in range(N_ini):\n",
    "    arm = np.random.randint(1, 4)\n",
    "\n",
    "    # Keep track of times each arm is pulled\n",
    "    N[arm-1] += 1\n",
    "    # Keep track of which arm is pulled\n",
    "    picked_arm[i] = arm\n",
    "    # Keep track of the reward of each arm\n",
    "    cur_R = reward(arm)\n",
    "    R[arm-1] += cur_R\n",
    "\n",
    "    # Keep track of the regret\n",
    "    total_regret[i] = regret(arm, i+1, N, R)\n",
    "\n",
    "print(N)\n",
    "\n",
    "# Start the RL algorithm\n",
    "for i in range(N_ini, t_tot):\n",
    "    # Decide which arm to pull\n",
    "    arm_val_list = np.array([UCB(1, i+1, N, R), UCB(2, i+1, N, R), UCB(3, i+1, N, R)])\n",
    "    arm = np.argmax(arm_val_list) + 1\n",
    "    # make sure the arm is randomly chosen when the max is not unique\n",
    "    if np.isclose(arm_val_list[arm-1], np.max(arm_val_list)).sum() > 1:\n",
    "        arm = np.random.choice(np.where(np.isclose(arm_val_list, np.max(arm_val_list)))[0]) + 1\n",
    "\n",
    "    # Keep track of times each arm is pulled\n",
    "    N[arm-1] += 1\n",
    "    # Keep track of which arm is pulled\n",
    "    picked_arm[i] = arm\n",
    "    # Keep track of the reward of each arm\n",
    "    cur_R = reward(arm)\n",
    "    R[arm-1] += cur_R\n",
    "\n",
    "    # Keep track of the regret\n",
    "    total_regret[i] = regret(arm, i+1, N, R)\n",
    "\n",
    "# Record the results\n",
    "total_regret_UCB = np.cumsum(total_regret)"
   ]
  },
  {
   "cell_type": "code",
   "execution_count": 26,
   "metadata": {},
   "outputs": [
    {
     "data": {
      "text/plain": [
       "<matplotlib.legend.Legend at 0x7fcebec50670>"
      ]
     },
     "execution_count": 26,
     "metadata": {},
     "output_type": "execute_result"
    },
    {
     "data": {
      "image/png": "[encoded data removed]",
      "text/plain": [
       "<Figure size 640x480 with 1 Axes>"
      ]
     },
     "metadata": {},
     "output_type": "display_data"
    }
   ],
   "source": [
    "# Plot the results as a function of t\n",
    "plt.plot(t, total_regret_UCB, label='UCB')\n",
    "plt.xlabel('t')\n",
    "plt.ylabel('Total Regret')\n",
    "plt.legend()"
   ]
  },
  {
   "cell_type": "code",
   "execution_count": 9,
   "metadata": {},
   "outputs": [
    {
     "data": {
      "text/plain": [
       "array([nan, nan, nan, nan, nan, nan, nan, nan, nan, nan, nan, nan, nan,\n",
       "       nan, nan, nan, nan, nan, nan, nan, nan, nan, nan, nan, nan, nan,\n",
       "       nan, nan, nan, nan, nan, nan, nan, nan, nan, nan, nan, nan, nan,\n",
       "       nan, nan, nan, nan, nan, nan, nan, nan, nan, nan, nan, nan, nan,\n",
       "       nan, nan, nan, nan, nan, nan, nan, nan, nan, nan, nan, nan, nan,\n",
       "       nan, nan, nan, nan, nan, nan, nan, nan, nan, nan, nan, nan, nan,\n",
       "       nan, nan, nan, nan, nan, nan, nan, nan, nan, nan, nan, nan, nan,\n",
       "       nan, nan, nan, nan, nan, nan, nan, nan, nan])"
      ]
     },
     "execution_count": 9,
     "metadata": {},
     "output_type": "execute_result"
    }
   ],
   "source": [
    "total_regret_UCB"
   ]
  },
  {
   "cell_type": "code",
   "execution_count": 23,
   "metadata": {},
   "outputs": [
    {
     "data": {
      "text/plain": [
       "array([       nan,        nan,        nan,        nan,        nan,\n",
       "              nan,        nan,        nan,        nan, 1.        ,\n",
       "       1.        , 0.        , 0.        , 0.        , 0.        ,\n",
       "       0.        , 0.        , 0.5       , 1.        , 0.4       ,\n",
       "       0.        , 0.33333333, 0.        , 0.21428571, 0.17857143,\n",
       "       0.15079365, 0.22857143, 0.        , 0.        , 0.        ,\n",
       "       0.15508021, 0.13235294, 0.88235294, 0.        , 0.11965812,\n",
       "       0.        , 0.10902256, 0.        , 0.1       , 0.        ,\n",
       "       0.0922619 , 0.        , 0.0855615 , 0.        , 0.07971014,\n",
       "       0.        , 0.03289474, 0.025     , 0.01785714, 0.01136364,\n",
       "       0.00543478, 0.        , 0.        , 0.04      , 0.        ,\n",
       "       0.        , 0.        , 0.        , 0.89655172, 0.        ,\n",
       "       0.        , 0.        , 0.06009615, 0.        , 0.05723906,\n",
       "       0.        , 0.05462185, 0.        , 0.05221675, 0.        ,\n",
       "       0.05      , 0.        , 0.04795118, 0.        , 0.04605263,\n",
       "       0.        , 0.04428904, 0.        , 0.04264706, 0.        ,\n",
       "       0.04111498, 0.        , 0.03968254, 0.        , 0.03834067,\n",
       "       0.        , 0.03708134, 0.        , 0.03589744, 0.        ,\n",
       "       0.03478261, 0.        , 0.03373119, 0.        , 0.0327381 ,\n",
       "       0.        , 0.03179877, 0.        , 0.03090909, 0.        ])"
      ]
     },
     "execution_count": 23,
     "metadata": {},
     "output_type": "execute_result"
    }
   ],
   "source": [
    "total_regret"
   ]
  },
  {
   "cell_type": "code",
   "execution_count": null,
   "metadata": {},
   "outputs": [],
   "source": []
  }
 ],
 "metadata": {
  "kernelspec": {
   "display_name": "DSFP",
   "language": "python",
   "name": "python3"
  },
  "language_info": {
   "codemirror_mode": {
    "name": "ipython",
    "version": 3
   },
   "file_extension": ".py",
   "mimetype": "text/x-python",
   "name": "python",
   "nbconvert_exporter": "python",
   "pygments_lexer": "ipython3",
   "version": "3.8.17"
  },
  "orig_nbformat": 4
 },
 "nbformat": 4,
 "nbformat_minor": 2
}
