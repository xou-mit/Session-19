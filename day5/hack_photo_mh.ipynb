{
 "cells": [
  {
   "cell_type": "code",
   "execution_count": 2,
   "metadata": {},
   "outputs": [],
   "source": [
    "# Test the performance of XGBoost in predicting metallicity of stars based on broad-band photometry from Pan-STARRS1\n",
    "# Import libraries\n",
    "import numpy as np\n",
    "import pandas as pd\n",
    "import matplotlib.pyplot as plt\n",
    "\n",
    "from astropy.io import fits"
   ]
  },
  {
   "cell_type": "code",
   "execution_count": null,
   "metadata": {},
   "outputs": [],
   "source": [
    "# Import data\n",
    "# Import the cross-matched catalog for metallicity true labels from APOGEE\n",
    "apogee = fits.open('/Users/xwou/Documents/Research/MIT/Fa2020_MW_substructure/data/allStarLite-dr17-synspec_rev1.fits')\n",
    "\n",
    "# Import "
   ]
  },
  {
   "cell_type": "code",
   "execution_count": null,
   "metadata": {},
   "outputs": [],
   "source": [
    "# Determine the learning set\n",
    "# Clean out some of the bad stars from APOGEE"
   ]
  }
 ],
 "metadata": {
  "kernelspec": {
   "display_name": "DSFP",
   "language": "python",
   "name": "python3"
  },
  "language_info": {
   "codemirror_mode": {
    "name": "ipython",
    "version": 3
   },
   "file_extension": ".py",
   "mimetype": "text/x-python",
   "name": "python",
   "nbconvert_exporter": "python",
   "pygments_lexer": "ipython3",
   "version": "3.8.17"
  },
  "orig_nbformat": 4
 },
 "nbformat": 4,
 "nbformat_minor": 2
}
