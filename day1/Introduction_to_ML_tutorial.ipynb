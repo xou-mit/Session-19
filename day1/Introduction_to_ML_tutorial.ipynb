{
 "cells": [
  {
   "cell_type": "markdown",
   "id": "75dba511",
   "metadata": {},
   "source": [
    "# Tutorial for Introduction to ML Lecture\n",
    "\n",
    "version 0.1, September 2023\n",
    "\n",
    "Bryan Scott, CIERA/Northwestern"
   ]
  },
  {
   "cell_type": "markdown",
   "id": "c73c6b0f",
   "metadata": {},
   "source": [
    "## Problem 1: Bayes Classifiers"
   ]
  },
  {
   "cell_type": "markdown",
   "id": "07842041",
   "metadata": {},
   "source": [
    "A good starting point for Machine Learning is the Bayes classifier. The basic idea is to assign the most probable label to each data point using Bayes theorem, we take:\n",
    "\n",
    "$$\n",
    "p(y | x_n) \\propto p(y)p(x_i, ..., x_n | y)\n",
    "$$\n",
    "\n",
    "where y is a label for a data point and the $x_n$ are the features of the data that we want to use to classify each data point. A $\\textit{Naive} Bayes$ classifier makes an important simplifying assumptions that gives it the name - it assumes that the conditional probabilities are independent, $p(x_i, ..., x_n | y) = p(x_i|y)... p(x_n | y)$. That is, the probability of observing any individual feature doesn't depend on any of the other features. Our task is to construct this classifier from a set of examples we've observed previously and compare it to new data. "
   ]
  },
  {
   "cell_type": "markdown",
   "id": "40084db8",
   "metadata": {},
   "source": [
    "### Part 0: Load and split the data"
   ]
  },
  {
   "cell_type": "code",
   "execution_count": 2,
   "id": "5a1d0a57",
   "metadata": {},
   "outputs": [],
   "source": [
    "import pandas as pd\n",
    "import numpy as np\n",
    "from scipy.stats import norm\n",
    "import matplotlib.pyplot as plt"
   ]
  },
  {
   "cell_type": "code",
   "execution_count": 28,
   "id": "e543f3b7",
   "metadata": {},
   "outputs": [],
   "source": [
    "# lsst_data[0:1000].to_csv('session_19_DC2_subset.csv')"
   ]
  },
  {
   "cell_type": "markdown",
   "id": "3c682ccc",
   "metadata": {},
   "source": [
    "### Loading and splitting the data. \n",
    "\n",
    "Read in the data, then start by selecting the id, fluxes, and object truth type in the lsst data file you've been provided. \n",
    "\n",
    "Once you have selected those, randomly split the data into two arrays, one containing 80% of the data, and a second array containing 20% of the data. "
   ]
  },
  {
   "cell_type": "code",
   "execution_count": 14,
   "id": "94094b3b",
   "metadata": {},
   "outputs": [],
   "source": [
    "lsst_data = pd.read_csv('data/table_data.lsst.cloudapi.csv')\n",
    "\n",
    "# solved \n",
    "\n",
    "lsst_data_to_classify = lsst_data[['id', 'flux_g', 'flux_i', 'flux_r', 'flux_u', 'flux_y', 'flux_z', 'truth_type']]\n",
    "random_data = lsst_data_to_classify.sample(n=1000)\n",
    "\n",
    "random_data.to_csv('simulated_extragalactic_data.csv')\n",
    "\n",
    "train_data = random_data.iloc[0:800]\n",
    "test_data = random_data.iloc[800:1000]\n",
    "\n",
    "# unsolved \n",
    "\n",
    "# lsst_data_to_classify = \n",
    "# random_data = \n",
    "\n",
    "# train_data = \n",
    "# test_data = "
   ]
  },
  {
   "cell_type": "code",
   "execution_count": 12,
   "id": "30ff799b",
   "metadata": {},
   "outputs": [
    {
     "data": {
      "text/html": [
       "<div>\n",
       "<style scoped>\n",
       "    .dataframe tbody tr th:only-of-type {\n",
       "        vertical-align: middle;\n",
       "    }\n",
       "\n",
       "    .dataframe tbody tr th {\n",
       "        vertical-align: top;\n",
       "    }\n",
       "\n",
       "    .dataframe thead th {\n",
       "        text-align: right;\n",
       "    }\n",
       "</style>\n",
       "<table border=\"1\" class=\"dataframe\">\n",
       "  <thead>\n",
       "    <tr style=\"text-align: right;\">\n",
       "      <th></th>\n",
       "      <th>id</th>\n",
       "      <th>flux_g</th>\n",
       "      <th>flux_i</th>\n",
       "      <th>flux_r</th>\n",
       "      <th>flux_u</th>\n",
       "      <th>flux_y</th>\n",
       "      <th>flux_z</th>\n",
       "      <th>truth_type</th>\n",
       "    </tr>\n",
       "  </thead>\n",
       "  <tbody>\n",
       "    <tr>\n",
       "      <th>48344</th>\n",
       "      <td>11568460784</td>\n",
       "      <td>10.56370</td>\n",
       "      <td>29.4790</td>\n",
       "      <td>16.4745</td>\n",
       "      <td>3.79227</td>\n",
       "      <td>76.0767</td>\n",
       "      <td>45.1033</td>\n",
       "      <td>1</td>\n",
       "    </tr>\n",
       "    <tr>\n",
       "      <th>17666</th>\n",
       "      <td>11626701310</td>\n",
       "      <td>151.17900</td>\n",
       "      <td>267.0960</td>\n",
       "      <td>157.2470</td>\n",
       "      <td>159.34900</td>\n",
       "      <td>287.3300</td>\n",
       "      <td>292.1570</td>\n",
       "      <td>1</td>\n",
       "    </tr>\n",
       "    <tr>\n",
       "      <th>47807</th>\n",
       "      <td>11566532886</td>\n",
       "      <td>19.39760</td>\n",
       "      <td>30.3091</td>\n",
       "      <td>24.4655</td>\n",
       "      <td>19.74380</td>\n",
       "      <td>72.5930</td>\n",
       "      <td>47.4641</td>\n",
       "      <td>1</td>\n",
       "    </tr>\n",
       "    <tr>\n",
       "      <th>8352</th>\n",
       "      <td>11564209917</td>\n",
       "      <td>279.80400</td>\n",
       "      <td>1925.0200</td>\n",
       "      <td>754.7330</td>\n",
       "      <td>185.44200</td>\n",
       "      <td>3909.2000</td>\n",
       "      <td>3307.4300</td>\n",
       "      <td>1</td>\n",
       "    </tr>\n",
       "    <tr>\n",
       "      <th>37532</th>\n",
       "      <td>11688356116</td>\n",
       "      <td>5.14646</td>\n",
       "      <td>18.9025</td>\n",
       "      <td>11.6335</td>\n",
       "      <td>3.25081</td>\n",
       "      <td>21.5846</td>\n",
       "      <td>20.3508</td>\n",
       "      <td>1</td>\n",
       "    </tr>\n",
       "    <tr>\n",
       "      <th>...</th>\n",
       "      <td>...</td>\n",
       "      <td>...</td>\n",
       "      <td>...</td>\n",
       "      <td>...</td>\n",
       "      <td>...</td>\n",
       "      <td>...</td>\n",
       "      <td>...</td>\n",
       "      <td>...</td>\n",
       "    </tr>\n",
       "    <tr>\n",
       "      <th>49702</th>\n",
       "      <td>11569887601</td>\n",
       "      <td>11.08150</td>\n",
       "      <td>30.9775</td>\n",
       "      <td>18.1020</td>\n",
       "      <td>2.29094</td>\n",
       "      <td>72.4049</td>\n",
       "      <td>52.0237</td>\n",
       "      <td>1</td>\n",
       "    </tr>\n",
       "    <tr>\n",
       "      <th>14466</th>\n",
       "      <td>11562553858</td>\n",
       "      <td>70.30830</td>\n",
       "      <td>304.1930</td>\n",
       "      <td>200.4590</td>\n",
       "      <td>16.73550</td>\n",
       "      <td>454.9000</td>\n",
       "      <td>385.6030</td>\n",
       "      <td>1</td>\n",
       "    </tr>\n",
       "    <tr>\n",
       "      <th>23077</th>\n",
       "      <td>11638125364</td>\n",
       "      <td>86.73320</td>\n",
       "      <td>77.4096</td>\n",
       "      <td>83.8354</td>\n",
       "      <td>69.89100</td>\n",
       "      <td>77.4372</td>\n",
       "      <td>77.5890</td>\n",
       "      <td>1</td>\n",
       "    </tr>\n",
       "    <tr>\n",
       "      <th>42190</th>\n",
       "      <td>11691538627</td>\n",
       "      <td>5.42994</td>\n",
       "      <td>24.6955</td>\n",
       "      <td>11.7521</td>\n",
       "      <td>2.15128</td>\n",
       "      <td>87.6585</td>\n",
       "      <td>49.3406</td>\n",
       "      <td>1</td>\n",
       "    </tr>\n",
       "    <tr>\n",
       "      <th>17384</th>\n",
       "      <td>11570995713</td>\n",
       "      <td>42.92020</td>\n",
       "      <td>36.9235</td>\n",
       "      <td>40.1047</td>\n",
       "      <td>40.34520</td>\n",
       "      <td>33.9244</td>\n",
       "      <td>35.7940</td>\n",
       "      <td>1</td>\n",
       "    </tr>\n",
       "  </tbody>\n",
       "</table>\n",
       "<p>848 rows × 8 columns</p>\n",
       "</div>"
      ],
      "text/plain": [
       "                id     flux_g     flux_i    flux_r     flux_u     flux_y  \\\n",
       "48344  11568460784   10.56370    29.4790   16.4745    3.79227    76.0767   \n",
       "17666  11626701310  151.17900   267.0960  157.2470  159.34900   287.3300   \n",
       "47807  11566532886   19.39760    30.3091   24.4655   19.74380    72.5930   \n",
       "8352   11564209917  279.80400  1925.0200  754.7330  185.44200  3909.2000   \n",
       "37532  11688356116    5.14646    18.9025   11.6335    3.25081    21.5846   \n",
       "...            ...        ...        ...       ...        ...        ...   \n",
       "49702  11569887601   11.08150    30.9775   18.1020    2.29094    72.4049   \n",
       "14466  11562553858   70.30830   304.1930  200.4590   16.73550   454.9000   \n",
       "23077  11638125364   86.73320    77.4096   83.8354   69.89100    77.4372   \n",
       "42190  11691538627    5.42994    24.6955   11.7521    2.15128    87.6585   \n",
       "17384  11570995713   42.92020    36.9235   40.1047   40.34520    33.9244   \n",
       "\n",
       "          flux_z  truth_type  \n",
       "48344    45.1033           1  \n",
       "17666   292.1570           1  \n",
       "47807    47.4641           1  \n",
       "8352   3307.4300           1  \n",
       "37532    20.3508           1  \n",
       "...          ...         ...  \n",
       "49702    52.0237           1  \n",
       "14466   385.6030           1  \n",
       "23077    77.5890           1  \n",
       "42190    49.3406           1  \n",
       "17384    35.7940           1  \n",
       "\n",
       "[848 rows x 8 columns]"
      ]
     },
     "execution_count": 12,
     "metadata": {},
     "output_type": "execute_result"
    }
   ],
   "source": [
    "random_data[random_data['truth_type'] == 1]"
   ]
  },
  {
   "cell_type": "code",
   "execution_count": null,
   "id": "a92cb839",
   "metadata": {},
   "outputs": [],
   "source": []
  },
  {
   "cell_type": "markdown",
   "id": "99f2de21",
   "metadata": {},
   "source": [
    "### Part 1: Estimate Class Frequency in the training set\n",
    "\n",
    "One of the ingredients in our classifier is p(y), the unconditional class probabilities. \n",
    "\n",
    "We can get this by counting the number of rows belonging to each class in train_data and dividing by the length of the training data set. "
   ]
  },
  {
   "cell_type": "code",
   "execution_count": 30,
   "id": "0186b8f1",
   "metadata": {},
   "outputs": [],
   "source": [
    "# solved\n",
    "\n",
    "def estimate_class_probabilities(x_train): \n",
    "    \"\"\"\n",
    "    Computes unconditional class probabilities. \n",
    "     \n",
    "    Args:\n",
    "        x_train (array): training data for the classifier\n",
    " \n",
    "    Returns:\n",
    "        ints p1, p2: unconditional probability of an element of the training set belonging to class 1\n",
    "    \"\"\"\n",
    "    \n",
    "    p1 = len(x_train.loc[x_train['truth_type'] == 1])/800\n",
    "    p2 = len(x_train.loc[x_train['truth_type'] == 2])/800\n",
    "    \n",
    "    return p1, p2\n",
    "\n",
    "p1, p2 = estimate_class_probabilities(test_data)\n"
   ]
  },
  {
   "cell_type": "markdown",
   "id": "ca1aa268",
   "metadata": {},
   "source": [
    "### Part 2:  Feature Likelihoods\n",
    "\n",
    "We are assuming that the relationship between the classes and feature probabilities are related via:\n",
    "\n",
    "$p(x_i, ..., x_n | y) =  p(x_i|y)... p(x_n | y)$\n",
    "\n",
    "however, we still need to make an assumption about the functional form of the $p(x_n | y)$. As a simple case, we will assume p(x_n | y) follows a Gaussian distribution given by:\n",
    "\n",
    "$$\n",
    "p(x_i | y) = \\frac{1}{\\sqrt{2 \\pi \\sigma_y}} \\exp{\\left(-\\frac{(x_i - \\mu)^2}{\\sigma_y^2}\\right)}\n",
    "$$\n",
    "\n",
    "and we will make a maximum likelihood estimate of $\\mu$ and $\\sigma_y$ from the data. This means using empirical estimates $\\bar{x}$ and $\\hat{\\sigma}$ as estimators of the true parameters $\\mu$ and $\\sigma_y$. \n",
    "\n",
    "Write a fitting function that takes the log of the fluxes and returns an estimate of the parameters of the per-feature likelihoods for each class."
   ]
  },
  {
   "cell_type": "code",
   "execution_count": 31,
   "id": "609b65b7",
   "metadata": {},
   "outputs": [],
   "source": [
    "# solved\n",
    "\n",
    "def per_feature_likelihood_parameters(x_train, label):\n",
    "    \"\"\"\n",
    "    Computes MAP estimates for the class conditional likelihood. \n",
    "     \n",
    "    Args:\n",
    "        x_train (array or pd series): training data for the classifier\n",
    "        label (int): training labels for the classifier \n",
    " \n",
    "    Returns:\n",
    "        means, stdevs (array): MAP estimates of the Gaussian conditional probability distributions for a specific class\n",
    "    \"\"\"\n",
    "    \n",
    "    means = np.log(x_train.loc[x_train['truth_type'] == label][['flux_g', 'flux_r', 'flux_i', 'flux_u', 'flux_y']]).mean()\n",
    "    stdevs = np.log(x_train.loc[x_train['truth_type'] == label][['flux_g', 'flux_r', 'flux_i', 'flux_u', 'flux_y']]).std()\n",
    "    \n",
    "    return means, stdevs\n",
    "\n"
   ]
  },
  {
   "cell_type": "markdown",
   "id": "16dbeb61",
   "metadata": {},
   "source": [
    "### Part 3: MAP Estimates of the Class Probabilities\n",
    "\n",
    "Now that we have the unconditional class probabilities and the parameters of the per feature likelihoods in hand, we can put this all together to build the classifier. Use the methods you have already written to write a function that takes in the training data and returns fit parameters. Once you have done that, write a method that takes the fit parameters as an argument and predicts the class of new (and unseen) data. "
   ]
  },
  {
   "cell_type": "code",
   "execution_count": 32,
   "id": "05a17f4d",
   "metadata": {},
   "outputs": [],
   "source": [
    "# build the classifier\n",
    "\n",
    "# solved \n",
    "\n",
    "def fit(x_train):\n",
    "    \"\"\"\n",
    "    Convenience function to perform fitting on the training data\n",
    "     \n",
    "    Args:\n",
    "        x_train (array or pd series): training data for the classifier\n",
    " \n",
    "    Returns:\n",
    "        p1, p2, class_1_mean, class_2_mean, class_1_std, class_2_std: see documentation for per_feature_likelihood_parameters\n",
    "    \"\"\"\n",
    "    \n",
    "    p1, p2 = estimate_class_probabilities(x_train)\n",
    "    \n",
    "    class_1_mean, class_1_std = per_feature_likelihood_parameters(x_train, 1)\n",
    "    class_2_mean, class_2_std = per_feature_likelihood_parameters(x_train, 2)\n",
    "    \n",
    "    return p1, p2, class_1_mean, class_2_mean, class_1_std, class_2_std"
   ]
  },
  {
   "cell_type": "code",
   "execution_count": 33,
   "id": "7bcad9d0",
   "metadata": {},
   "outputs": [],
   "source": [
    "class_probability, class_means, class_dev = fit(train_data)"
   ]
  },
  {
   "cell_type": "code",
   "execution_count": 34,
   "id": "01867cba",
   "metadata": {},
   "outputs": [],
   "source": [
    "# solved \n",
    "\n",
    "def predict(x_test, class_probability, class_means, class_dev):\n",
    "    \"\"\"\n",
    "    Predict method\n",
    "     \n",
    "    Args:\n",
    "        x_test (array): data to perform classification on\n",
    "        class_probability (array): unconditional class probabilities\n",
    "        class_means, class_dev (array): MAP estimates produced by the fit method\n",
    " \n",
    "    Returns:\n",
    "        predict_List (list): class membership predictions\n",
    "    \"\"\"\n",
    "    \n",
    "    \n",
    "    flux_g, flux_r, flux_i, flux_u, flux_y = np.log(np.array(x_test[['flux_g', 'flux_r', 'flux_i', 'flux_u', 'flux_y']])).T\n",
    "\n",
    "    prob_1 = class_probability[0] * norm.pdf(flux_i, class_means[0]['flux_i'],class_dev[0]['flux_i']) * norm.pdf(flux_r, class_means[0]['flux_r'],class_dev[0]['flux_r'])* norm.pdf(flux_g, class_means[0]['flux_g'],class_dev[0]['flux_g'])* norm.pdf(flux_u, class_means[0]['flux_u'],class_dev[0]['flux_u'])* norm.pdf(flux_y, class_means[0]['flux_y'],class_dev[0]['flux_y'])\n",
    "    prob_2 = class_probability[1] * norm.pdf(flux_i, class_means[1]['flux_i'],class_dev[1]['flux_i'])* norm.pdf(flux_r, class_means[1]['flux_r'],class_dev[1]['flux_r']) * norm.pdf(flux_g, class_means[1]['flux_g'],class_dev[1]['flux_g']) * norm.pdf(flux_u, class_means[1]['flux_u'],class_dev[0]['flux_u'])* norm.pdf(flux_y, class_means[1]['flux_y'],class_dev[1]['flux_y'])\n",
    "    \n",
    "    predict_list = np.zeros(len(prob_1))\n",
    "        \n",
    "    for i in range(0, len(prob_1)):\n",
    "        if prob_1[i] >= prob_2[i]:\n",
    "            predict_list[i] = int(1)\n",
    "            \n",
    "        if prob_1[i] < prob_2[i]:\n",
    "            predict_list[i] = int(2)\n",
    "    \n",
    "    return predict_list"
   ]
  },
  {
   "cell_type": "code",
   "execution_count": 35,
   "id": "ece7794e",
   "metadata": {},
   "outputs": [],
   "source": [
    "test_data = test_data[~(test_data == 0).any(axis = 1)]"
   ]
  },
  {
   "cell_type": "code",
   "execution_count": 36,
   "id": "7865e066",
   "metadata": {},
   "outputs": [
    {
     "data": {
      "text/plain": [
       "array([1., 1., 2., 1., 1., 1., 1., 1., 2., 1., 1., 1., 1., 1., 1., 1., 2.,\n",
       "       1., 1., 2., 1., 1., 1., 1., 1., 2., 1., 2., 1., 1., 2., 1., 1., 1.,\n",
       "       1., 1., 1., 1., 1., 1., 1., 1., 1., 1., 1., 1., 2., 1., 1., 1., 1.,\n",
       "       1., 1., 1., 1., 1., 1., 1., 1., 1., 2., 1., 1., 1., 1., 1., 1., 1.,\n",
       "       1., 2., 1., 1., 1., 1., 2., 1., 2., 1., 1., 2., 2., 1., 1., 2., 2.,\n",
       "       2., 2., 1., 1., 1., 1., 1., 1., 1., 1., 1., 2., 1., 1., 1., 1., 1.,\n",
       "       1., 2., 1., 2., 1., 1., 1., 1., 1., 1., 1., 1., 1., 1., 1., 2., 1.,\n",
       "       1., 1., 2., 2., 1., 1., 1., 2., 2., 1., 1., 1., 1., 1., 2., 2., 2.,\n",
       "       1., 1., 2., 2., 1., 2., 1., 1., 1., 1., 1., 1., 1., 1., 2., 2., 1.,\n",
       "       1., 1., 1., 1., 1., 1., 1., 1., 1., 1., 1., 1., 1., 2., 1., 1., 2.,\n",
       "       2., 2., 1., 1., 1., 1., 1., 2., 1., 1., 1., 2., 2., 1., 1., 1., 1.,\n",
       "       1., 1., 1., 1., 1., 1., 1., 2., 1., 2., 1., 1., 1.])"
      ]
     },
     "execution_count": 36,
     "metadata": {},
     "output_type": "execute_result"
    }
   ],
   "source": [
    "predict(test_data, class_probability, class_means, class_dev)"
   ]
  },
  {
   "cell_type": "markdown",
   "id": "8067d9e3",
   "metadata": {},
   "source": [
    "### Part 4: Metrics\n",
    "\n",
    "After creating a classifier, you now want to evaluate it in terms of how often it correctly and incorrectly classifies the objects in your training set. To do this, we'll design a confusion matrix. A confusion matrix is a matrix whose entries are the counts of the predicted vs actual class. For example, the first entry is the count of objects that are predicted to be of class 1 and actually are of class 1 and so on, while the off-diagonal elements would be instances of class 1 that are predicted to be of class 2, and instances of class 2 that are predicted to be of class 1. "
   ]
  },
  {
   "cell_type": "code",
   "execution_count": 37,
   "id": "a366c561",
   "metadata": {},
   "outputs": [],
   "source": [
    "def plot_confusion_matrix(df_confusion, title='Confusion matrix', cmap=plt.cm.gray_r):\n",
    "    plt.matshow(df_confusion, cmap=cmap) # imshow\n",
    "    #plt.title(title)\n",
    "    plt.colorbar()\n",
    "    tick_marks = np.arange(len(df_confusion.columns))\n",
    "    plt.xticks(tick_marks, df_confusion.columns, rotation=45)\n",
    "    plt.yticks(tick_marks, df_confusion.index)\n",
    "    #plt.tight_layout()\n",
    "    plt.ylabel(df_confusion.index.name)\n",
    "    plt.xlabel(df_confusion.columns.name)\n"
   ]
  },
  {
   "cell_type": "code",
   "execution_count": 38,
   "id": "2a50e73d",
   "metadata": {},
   "outputs": [],
   "source": [
    "df_confusion = pd.crosstab(test_data['truth_type'] ,predict(test_data, class_probability, class_means, class_dev))"
   ]
  },
  {
   "cell_type": "code",
   "execution_count": 39,
   "id": "3fde1da7",
   "metadata": {},
   "outputs": [
    {
     "data": {
      "image/png": "[encoded data removed]",
      "text/plain": [
       "<Figure size 288x288 with 2 Axes>"
      ]
     },
     "metadata": {
      "needs_background": "light"
     },
     "output_type": "display_data"
    }
   ],
   "source": [
    "plot_confusion_matrix(df_confusion)"
   ]
  },
  {
   "cell_type": "markdown",
   "id": "cb4c8763",
   "metadata": {},
   "source": [
    "## Problem 2: The Cramer-Rao bound (pen & paper, challenging)\n",
    "\n",
    "As we saw in the lecture, the Cramer-Rao bound is an important result in statistics that has intuitive consequences for many applied problems in ML. The proof of the Cramer-Rao bound can be insightful to work through. \n",
    "\n",
    "The starting point for the proof of the bound is the Cauchy-Schwarz inequality, which can be used to show that:\n",
    "\n",
    "$$\n",
    "[Cov(U, V)]^2 \\le Var(U)Var(V)\n",
    "$$\n",
    "\n",
    "Starting from the definitions that U = T(X), where T(X) is an estimator of some parameter $\\theta$ of the distribution $f(X|\\theta)$ from which the data is sampled, and V = $\\frac{\\partial}{\\partial \\theta} log f(X |\\theta)$. Use the Cauchy-Schwarz inequality to show the Cramer-Rao bound for these choices of U and V. \n",
    "\n",
    "$\\textit{Hint:}$ you will need the fact that the $\\mathbb{E}(V) = 0$, where $\\mathbb{E}$ is the expectation of a random variable."
   ]
  },
  {
   "cell_type": "code",
   "execution_count": null,
   "id": "e1432f12",
   "metadata": {},
   "outputs": [],
   "source": []
  }
 ],
 "metadata": {
  "kernelspec": {
   "display_name": "Python 3 (ipykernel)",
   "language": "python",
   "name": "python3"
  },
  "language_info": {
   "codemirror_mode": {
    "name": "ipython",
    "version": 3
   },
   "file_extension": ".py",
   "mimetype": "text/x-python",
   "name": "python",
   "nbconvert_exporter": "python",
   "pygments_lexer": "ipython3",
   "version": "3.8.13"
  }
 },
 "nbformat": 4,
 "nbformat_minor": 5
}
