{
 "cells": [
  {
   "cell_type": "markdown",
   "id": "839dfa39",
   "metadata": {},
   "source": [
    "This notebook gives some fundamentals on Bagging and Boosting methods for the star/galaxy/quasar classification.\n",
    "\n",
    "Written with ❤️ by Viviana Acquaviva for the LSST Data Science Fellowship lecture series.\n",
    "\n",
    "License: [BSD-3-clause](https://opensource.org/license/bsd-3-clause/)"
   ]
  },
  {
   "cell_type": "code",
   "execution_count": null,
   "id": "4dc96f06",
   "metadata": {},
   "outputs": [],
   "source": [
    "import numpy as np\n",
    "import matplotlib.pyplot as plt\n",
    "import pandas as pd\n",
    "\n",
    "from sklearn.tree import DecisionTreeClassifier\n",
    "from sklearn.neighbors import KNeighborsClassifier\n",
    "from sklearn.tree import DecisionTreeClassifier\n",
    "\n",
    "from sklearn.preprocessing import StandardScaler\n",
    "from sklearn import metrics \n",
    "from sklearn.model_selection import train_test_split\n",
    "from sklearn.model_selection import cross_val_predict, cross_validate\n",
    "from sklearn.model_selection import KFold, StratifiedKFold\n",
    "\n",
    "from sklearn.model_selection import GridSearchCV, RandomizedSearchCV\n",
    "\n",
    "from sklearn.ensemble import RandomForestClassifier\n",
    "import xgboost as xgb\n",
    "\n",
    "pd.set_option('display.max_columns', 100)\n",
    "pd.set_option('display.max_rows', 100)\n",
    "pd.set_option('display.max_colwidth', 100)"
   ]
  },
  {
   "cell_type": "markdown",
   "id": "9f805580",
   "metadata": {},
   "source": [
    "We follow the same steps as before to derive the final data set. Note - because we are dealing with more complex models, I am reducing the sample size to ~10,000 (feel free to change frac to 0.05 if needed)."
   ]
  },
  {
   "cell_type": "code",
   "execution_count": null,
   "id": "7087ed67",
   "metadata": {},
   "outputs": [],
   "source": [
    "data = pd.read_csv('star_classification.csv', sep = ',')\n",
    "\n",
    "df = data.sample(frac = 0.1, random_state = 11)\n",
    "\n",
    "df.reset_index(drop = True, inplace=True)"
   ]
  },
  {
   "cell_type": "code",
   "execution_count": null,
   "id": "f290ce8a",
   "metadata": {},
   "outputs": [],
   "source": [
    "seldf = df[['u','g','r','i','z']]"
   ]
  },
  {
   "cell_type": "code",
   "execution_count": null,
   "id": "b068a9a2",
   "metadata": {},
   "outputs": [],
   "source": [
    "for col in seldf.columns:\n",
    "    seldf = seldf[seldf[col] >= 0]"
   ]
  },
  {
   "cell_type": "code",
   "execution_count": null,
   "id": "f56a5e82",
   "metadata": {},
   "outputs": [],
   "source": [
    "from sklearn.preprocessing import LabelEncoder"
   ]
  },
  {
   "cell_type": "code",
   "execution_count": null,
   "id": "67000658",
   "metadata": {},
   "outputs": [],
   "source": [
    "le = LabelEncoder() #turns categorical into 1 ... N"
   ]
  },
  {
   "cell_type": "code",
   "execution_count": null,
   "id": "579aa561",
   "metadata": {},
   "outputs": [],
   "source": [
    "y = le.fit_transform(df['class'].values)"
   ]
  },
  {
   "cell_type": "code",
   "execution_count": null,
   "id": "daecf4b6",
   "metadata": {},
   "outputs": [],
   "source": [
    "le.classes_"
   ]
  },
  {
   "cell_type": "code",
   "execution_count": null,
   "id": "ac7be7b9",
   "metadata": {},
   "outputs": [],
   "source": [
    "le_name_mapping = dict(zip(le.classes_, le.transform(le.classes_)))\n",
    "print(le_name_mapping)"
   ]
  },
  {
   "cell_type": "code",
   "execution_count": null,
   "id": "293ab90e",
   "metadata": {},
   "outputs": [],
   "source": [
    "target = y[seldf.index]"
   ]
  },
  {
   "cell_type": "markdown",
   "id": "0819e1c0",
   "metadata": {},
   "source": [
    "### Random Forest"
   ]
  },
  {
   "cell_type": "code",
   "execution_count": null,
   "id": "73505489",
   "metadata": {},
   "outputs": [],
   "source": [
    "model = RandomForestClassifier()"
   ]
  },
  {
   "cell_type": "code",
   "execution_count": null,
   "id": "1da7fbc2",
   "metadata": {},
   "outputs": [],
   "source": [
    "cv = KFold(n_splits=5, random_state=10, shuffle= True)"
   ]
  },
  {
   "cell_type": "markdown",
   "id": "5b7b1bd0",
   "metadata": {},
   "source": [
    "We can establish a benchmark, as usual:"
   ]
  },
  {
   "cell_type": "code",
   "execution_count": null,
   "id": "20e38777",
   "metadata": {},
   "outputs": [],
   "source": [
    "scores = cross_validate(model, seldf, target, cv = cv, return_train_score = True)"
   ]
  },
  {
   "cell_type": "code",
   "execution_count": null,
   "id": "4b66363c",
   "metadata": {},
   "outputs": [],
   "source": [
    "print(\"Time: %.3fs, Mean train score: %.3f, Mean test score: %.3f, std: %.3f\"%(scores['score_time'].mean(), scores['train_score'].mean(), scores['test_score'].mean(), scores['test_score'].std()))"
   ]
  },
  {
   "cell_type": "markdown",
   "id": "b0b303d7",
   "metadata": {},
   "source": [
    "As usual, we can get a landscape of model parameters like this:"
   ]
  },
  {
   "cell_type": "code",
   "execution_count": null,
   "id": "d32415b5",
   "metadata": {},
   "outputs": [],
   "source": [
    "model.get_params()"
   ]
  },
  {
   "cell_type": "markdown",
   "id": "a4beaced",
   "metadata": {},
   "source": [
    "It may be useful to distinguish between the parameters of the decision tree, the randomization process, and the averaging process."
   ]
  },
  {
   "cell_type": "markdown",
   "id": "4099d544",
   "metadata": {},
   "source": [
    "#### Tree Parameters\n",
    "\n",
    "Some useful parameters associated to a tree are:\n",
    "\n",
    "- the minimum number of instances in a leaf node; \n",
    "- the minimum number of instances required in a split node;\n",
    "- the maximum depth of tree;\n",
    "- the minimum information gain required to decide whether a split is \"worth it\".\n",
    "\n",
    "#### Randomization Parameters\n",
    "\n",
    "Here we find:\n",
    "\n",
    "-    The number of k < n features that are used in building trees (max_features);\n",
    "\n",
    "-    The re-sampling (boostrap) of the data set (T or F).\n",
    "\n",
    "#### Forest Parameters\n",
    "\n",
    "The number of trees in the forest (n_estimators) can be adjusted, with the general understanding that more trees are better, but at some point performance will plateau, so one can find the trade-off between having more trees and lower runtime.\n",
    "\n"
   ]
  },
  {
   "cell_type": "markdown",
   "id": "bf097a5e",
   "metadata": {},
   "source": [
    "### Optimizing hyperparameters"
   ]
  },
  {
   "cell_type": "markdown",
   "id": "1135f5ac",
   "metadata": {},
   "source": [
    "Finally, the cell below shows how to run a Grid Search for the parameters for some example sets; if a Grid Search is too expensive, we can also run a Randomized Search, which doesn't guarantee that we'll find the best model, but usually gets us close enough."
   ]
  },
  {
   "cell_type": "code",
   "execution_count": null,
   "id": "e4e9961f",
   "metadata": {},
   "outputs": [],
   "source": [
    "#Takes ~ 25 secs min for me\n",
    "\n",
    "parameters = {'min_impurity_decrease':[0.5, 0.2, 0.0], \\\n",
    "              'max_features':[None,4,2], 'n_estimators':[10, 50, 100], 'max_depth': [5,10]}\n",
    "\n",
    "model = GridSearchCV(RandomForestClassifier(), parameters, cv = KFold(n_splits=5, shuffle=True), \\\n",
    "                     verbose = 2, n_jobs = -1, return_train_score=True)\n",
    "model.fit(seldf,target)\n",
    "\n",
    "print('Best params, best score:', \"{:.4f}\".format(model.best_score_), \\\n",
    "      model.best_params_)"
   ]
  },
  {
   "cell_type": "markdown",
   "id": "d5dccbea",
   "metadata": {},
   "source": [
    "We can save the results in a data frame, and look at the best models to build some intution."
   ]
  },
  {
   "cell_type": "code",
   "execution_count": null,
   "id": "e1d72b81",
   "metadata": {},
   "outputs": [],
   "source": [
    "scores = pd.DataFrame(model.cv_results_)\n",
    "scoresCV = scores[['params','mean_test_score','std_test_score','mean_train_score']].sort_values(by = 'mean_test_score', \\\n",
    "                                                    ascending = False)\n"
   ]
  },
  {
   "cell_type": "code",
   "execution_count": null,
   "id": "b5f0c034",
   "metadata": {},
   "outputs": [],
   "source": [
    "scoresCV"
   ]
  },
  {
   "cell_type": "markdown",
   "id": "a4cb610a",
   "metadata": {},
   "source": [
    "Q: what parameters seem to be consistently important for the top models? And which ones are not important?"
   ]
  },
  {
   "cell_type": "code",
   "execution_count": null,
   "id": "4829cf2f",
   "metadata": {},
   "outputs": [],
   "source": [
    "\n",
    "\n",
    "\n",
    "\n",
    "\n"
   ]
  },
  {
   "cell_type": "markdown",
   "id": "70fa990a",
   "metadata": {},
   "source": [
    "For comparison, this is how to set up a Randomized Search:"
   ]
  },
  {
   "cell_type": "code",
   "execution_count": null,
   "id": "251b0bc5",
   "metadata": {},
   "outputs": [],
   "source": [
    "parameters = {'min_impurity_decrease':[0.5, 0.2, 0.0], \\\n",
    "              'max_features':[None,4,2], 'n_estimators':[10, 50, 100], 'max_depth': [5,10]}\n",
    "\n",
    "model = RandomizedSearchCV(RandomForestClassifier(), parameters, cv = KFold(n_splits=5, shuffle=True), \\\n",
    "                     verbose = 2, n_jobs = -1, return_train_score=True, n_iter = 30)\n",
    "model.fit(seldf,target)\n",
    "\n",
    "print('Best params, best score:', \"{:.4f}\".format(model.best_score_), \\\n",
    "      model.best_params_)"
   ]
  },
  {
   "cell_type": "markdown",
   "id": "c8e7dc8d",
   "metadata": {},
   "source": [
    "#### Q: What is the most convenient strategy here?"
   ]
  },
  {
   "cell_type": "markdown",
   "id": "d516b66f",
   "metadata": {},
   "source": [
    "### XGBoost"
   ]
  },
  {
   "cell_type": "markdown",
   "id": "f4fda080",
   "metadata": {},
   "source": [
    "Medium article explaining XGBoost: [here](https://towardsdatascience.com/a-beginners-guide-to-xgboost-87f5d4c30ed7); some nice tutorials from XGBoost's site: [here](https://xgboost.readthedocs.io/en/latest/tutorials/index.html)"
   ]
  },
  {
   "cell_type": "code",
   "execution_count": null,
   "id": "f450a3b3",
   "metadata": {},
   "outputs": [],
   "source": [
    "model = xgb.XGBClassifier()"
   ]
  },
  {
   "cell_type": "code",
   "execution_count": null,
   "id": "2c26f562",
   "metadata": {},
   "outputs": [],
   "source": [
    "model.get_params()"
   ]
  },
  {
   "cell_type": "markdown",
   "id": "e3142258",
   "metadata": {},
   "source": [
    "This is one possible grid (note - this takes a few minutes on my machine)!"
   ]
  },
  {
   "cell_type": "code",
   "execution_count": null,
   "id": "a4a7478d",
   "metadata": {},
   "outputs": [],
   "source": [
    "parameters = {'max_depth': [5,10], 'n_estimators':[10, 50,100], \n",
    "              'learning_rate': [0.05, 0.1, 0.2], 'subsample':[0.5,1]}\n",
    "\n",
    "model = GridSearchCV(xgb.XGBRegressor(), parameters, cv = KFold(n_splits=5, shuffle=True), \\\n",
    "                     verbose = 2, n_jobs = 4, return_train_score=True)\n",
    "\n",
    "model.fit(seldf,target)\n",
    "\n",
    "print('Best params, best score:', \"{:.4f}\".format(model.best_score_), \\\n",
    "      model.best_params_)"
   ]
  },
  {
   "cell_type": "markdown",
   "id": "f912cee0",
   "metadata": {},
   "source": [
    "### Task: \n",
    "\n",
    "### Try to improve on our current scores, by further optimizing a RF or XGB, and/or by engineering new features that could be helpful."
   ]
  },
  {
   "cell_type": "markdown",
   "id": "a08d4194",
   "metadata": {},
   "source": [
    "### Feature importance"
   ]
  },
  {
   "cell_type": "markdown",
   "id": "5a07b90e",
   "metadata": {},
   "source": [
    "Tree-based methods have a built-in feature importance method. It is important that the estimator has been \"fit\" before you can access the feature importances. If you are using this just to build an understanding of which features most participate to a prediction (and not to assess the performance of a model with a given set of features), you can use the full learning set.\n",
    "\n",
    "Note:\n",
    "\n",
    "The ranking (more in general, the information gain associated to each feature) is algorithm-dependent and often affected by correlations among variables. I would encourage you to think about it as an indication, and/or to derive it for a few different algorithms to increase robustness.\n"
   ]
  },
  {
   "cell_type": "code",
   "execution_count": 145,
   "id": "2c2b6ea2",
   "metadata": {},
   "outputs": [
    {
     "data": {
      "text/plain": [
       "DecisionTreeClassifier()"
      ]
     },
     "execution_count": 145,
     "metadata": {},
     "output_type": "execute_result"
    }
   ],
   "source": [
    "model"
   ]
  },
  {
   "cell_type": "code",
   "execution_count": 147,
   "id": "6a00902c",
   "metadata": {},
   "outputs": [
    {
     "data": {
      "text/plain": [
       "DecisionTreeClassifier()"
      ]
     },
     "execution_count": 147,
     "metadata": {},
     "output_type": "execute_result"
    }
   ],
   "source": [
    "model.fit(seldf, target)"
   ]
  },
  {
   "cell_type": "code",
   "execution_count": 148,
   "id": "488ff01c",
   "metadata": {},
   "outputs": [
    {
     "data": {
      "text/plain": [
       "array([0.16167098, 0.25731071, 0.16387238, 0.08455175, 0.33259417])"
      ]
     },
     "execution_count": 148,
     "metadata": {},
     "output_type": "execute_result"
    }
   ],
   "source": [
    "model.feature_importances_"
   ]
  },
  {
   "cell_type": "code",
   "execution_count": 149,
   "id": "f904046a",
   "metadata": {},
   "outputs": [
    {
     "name": "stdout",
     "output_type": "stream",
     "text": [
      "Feature ranking:\n",
      "1. feature: z, 4 (0.332594)\n",
      "2. feature: g, 1 (0.257311)\n",
      "3. feature: r, 2 (0.163872)\n",
      "4. feature: u, 0 (0.161671)\n",
      "5. feature: i, 3 (0.084552)\n"
     ]
    },
    {
     "data": {
      "image/png": "[encoded data removed]",
      "text/plain": [
       "<Figure size 1152x432 with 1 Axes>"
      ]
     },
     "metadata": {
      "needs_background": "light"
     },
     "output_type": "display_data"
    }
   ],
   "source": [
    "importances = model.feature_importances_\n",
    "\n",
    "indices = np.argsort(importances)[::-1]\n",
    "\n",
    "# Print the feature ranking\n",
    "print(\"Feature ranking:\")\n",
    "\n",
    "for f in range(seldf.shape[1]):\n",
    "    print(\"%d. feature: %s, %d (%f)\" % (f + 1, seldf.columns[indices[f]], indices[f], importances[indices[f]]))\n",
    "\n",
    "# Plot the feature importances of the forest\n",
    "plt.figure(figsize=(16,6))\n",
    "plt.title(\"Feature importances\")\n",
    "plt.bar(range(seldf.shape[1]), importances[indices],\n",
    "       color=\"r\", align=\"center\")\n",
    "plt.xticks(range(seldf.shape[1]), seldf.columns[indices])\n",
    "plt.xlim([-1, seldf.shape[1]])\n",
    "plt.show()"
   ]
  },
  {
   "cell_type": "code",
   "execution_count": null,
   "id": "78caa726",
   "metadata": {},
   "outputs": [],
   "source": []
  }
 ],
 "metadata": {
  "kernelspec": {
   "display_name": "Python 3",
   "language": "python",
   "name": "python3"
  },
  "language_info": {
   "codemirror_mode": {
    "name": "ipython",
    "version": 3
   },
   "file_extension": ".py",
   "mimetype": "text/x-python",
   "name": "python",
   "nbconvert_exporter": "python",
   "pygments_lexer": "ipython3",
   "version": "3.7.3"
  }
 },
 "nbformat": 4,
 "nbformat_minor": 5
}
